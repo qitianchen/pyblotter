{
 "metadata": {
  "name": "",
  "signature": "sha256:228901f6bd72a88b1052ed74b2f39cccc70d58d2cf7a1a784afc22fbf6486cea"
 },
 "nbformat": 3,
 "nbformat_minor": 0,
 "worksheets": [
  {
   "cells": [
    {
     "cell_type": "code",
     "collapsed": false,
     "input": [
      "%pylab"
     ],
     "language": "python",
     "metadata": {},
     "outputs": [
      {
       "output_type": "stream",
       "stream": "stdout",
       "text": [
        "Using matplotlib backend: Qt4Agg\n",
        "Populating the interactive namespace from numpy and matplotlib\n"
       ]
      }
     ],
     "prompt_number": 1
    },
    {
     "cell_type": "code",
     "collapsed": false,
     "input": [
      "from pandas import DataFrame, Series\n",
      "import pybbg\n",
      "import pandas as pd\n",
      "import numpy as np\n",
      "from datetime import datetime"
     ],
     "language": "python",
     "metadata": {},
     "outputs": [],
     "prompt_number": 2
    },
    {
     "cell_type": "markdown",
     "metadata": {},
     "source": [
      "This package is intended to work similar with [blotter package](http://www.r-bloggers.com/r-package-blotter/) R. "
     ]
    },
    {
     "cell_type": "code",
     "collapsed": false,
     "input": [
      "class Account:\n",
      "    def __init__(self, initDatetime, symbols, cashAmt, acctType='return'):\n",
      "        \"\"\"\n",
      "        input\n",
      "        initDate is start date of simulation\n",
      "        symbols is list of universe for simulation\n",
      "        \n",
      "        variables\n",
      "        txns is DataFrame which contains tranaction history\n",
      "        eq is DataFrame which contains current value of account\n",
      "        \n",
      "        For initial implementation, this class only values account based on return data of security. \n",
      "        Valuing account with price of security will be implemented later.\n",
      "        \"\"\"\n",
      "        self.txns = DataFrame(np.zeros((1,len(symbols))), index = [initDatetime], columns=symbols)\n",
      "        self.eq = DataFrame(np.zeros((1,len(symbols)+1)), index = [initDatetime], columns=['Cash'] + symbols)\n",
      "        self.eq.ix[initDatetime, 'Cash'] = cashAmt\n",
      "        self.accType = acctType\n",
      "\n",
      "    def addTxnDate(self, txnDate):\n",
      "        \"\"\"\n",
      "        add one row for txns and eq with index as txnDate\n",
      "        \"\"\"\n",
      "        self.txns.loc[txnDate, :] = self.txns.tail(1).values\n",
      "        self.eq.loc[txnDate, :] = self.eq.tail(1).values\n",
      "        \n",
      "    def addTxn(self, txnDate, symbol, txnAmt):\n",
      "        \"\"\"\n",
      "        addTxn add transaction data to txns DataFrame\n",
      "        \"\"\"\n",
      "        self.txns.ix[txnDate, symbol] = self.txns.ix[txnDate, symbol] + txnAmt\n",
      "    \n",
      "    def updateAcct(self, currDate, value):\n",
      "        \"\"\"\n",
      "        update account based on market data.\n",
      "        value is market data dataframe containing either return or price data\n",
      "        \n",
      "        Transaction cost should be implemented here. many options should be considered.\n",
      "        \"\"\"\n",
      "        shifted_txns = self.txns.shift(1)\n",
      "        # for each symbol in txns\n",
      "        for symbol in self.txns.columns:\n",
      "            # if there's no position, skip.\n",
      "            if self.eq.ix[currDate, symbol] != 0.0 or self.txns.ix[currDate, symbol] != 0.0:\n",
      "                # muliply return of symbol on each eq value of the symbol\n",
      "                self.eq.ix[currDate, symbol] = self.eq.ix[currDate, symbol] * (1.0 + value[symbol])\n",
      "                # Check if transaction occur\n",
      "                before_txns = 0.0\n",
      "                if self.txns.ix[currDate, symbol] != shifted_txns.ix[currDate, symbol]:\n",
      "                    if shifted_txns.ix[currDate, symbol] == 0:\n",
      "                        self.eq.ix[currDate, symbol] = self.txns.ix[currDate, symbol]\n",
      "                        self.eq.ix[currDate, 'Cash'] = self.eq.ix[currDate, 'Cash'] - self.txns.ix[currDate, symbol]\n",
      "                    else:\n",
      "                        # if there is change, adjust eq\n",
      "                        before_txns = self.eq.ix[currDate, symbol]\n",
      "                        self.eq.ix[currDate, symbol] = before_txns + before_txns * (self.txns.ix[currDate, symbol] - shifted_txns.ix[currDate, symbol]) / shifted_txns.ix[currDate, symbol]\n",
      "                        self.eq.ix[currDate, 'Cash'] = self.eq.ix[currDate, 'Cash'] + before_txns - self.eq.ix[currDate, symbol]\n",
      "\n",
      "    def getEq(self, currDate):\n",
      "        \"\"\"\n",
      "        get equity value of account at current date(currDate)\n",
      "        \"\"\"\n",
      "        return self.eq.ix[currDate].sum()\n",
      "    def getPos(self, currDate, symbol):\n",
      "        \"\"\"\n",
      "        get position information of symbol\n",
      "        \"\"\"\n",
      "        return self.txns.ix[currDate, symbol]"
     ],
     "language": "python",
     "metadata": {},
     "outputs": [],
     "prompt_number": 206
    },
    {
     "cell_type": "markdown",
     "metadata": {},
     "source": [
      "Test"
     ]
    },
    {
     "cell_type": "code",
     "collapsed": false,
     "input": [
      "mktData = DataFrame([[0.1, 0.1], [0.1, 0.1]], index=[pd.to_datetime('20130104'), pd.to_datetime('20130105')], columns=symbols)\n",
      "mktData"
     ],
     "language": "python",
     "metadata": {},
     "outputs": [
      {
       "html": [
        "<div style=\"max-height:1000px;max-width:1500px;overflow:auto;\">\n",
        "<table border=\"1\" class=\"dataframe\">\n",
        "  <thead>\n",
        "    <tr style=\"text-align: right;\">\n",
        "      <th></th>\n",
        "      <th>SPX</th>\n",
        "      <th>KOSPI200</th>\n",
        "    </tr>\n",
        "  </thead>\n",
        "  <tbody>\n",
        "    <tr>\n",
        "      <th>2013-01-04</th>\n",
        "      <td> 0.1</td>\n",
        "      <td> 0.1</td>\n",
        "    </tr>\n",
        "    <tr>\n",
        "      <th>2013-01-05</th>\n",
        "      <td> 0.1</td>\n",
        "      <td> 0.1</td>\n",
        "    </tr>\n",
        "  </tbody>\n",
        "</table>\n",
        "</div>"
       ],
       "metadata": {},
       "output_type": "pyout",
       "prompt_number": 99,
       "text": [
        "            SPX  KOSPI200\n",
        "2013-01-04  0.1       0.1\n",
        "2013-01-05  0.1       0.1"
       ]
      }
     ],
     "prompt_number": 99
    },
    {
     "cell_type": "code",
     "collapsed": false,
     "input": [
      "symbols = ['SPX', 'KOSPI200']\n",
      "initDate = pd.to_datetime('20130102')"
     ],
     "language": "python",
     "metadata": {},
     "outputs": []
    },
    {
     "cell_type": "code",
     "collapsed": false,
     "input": [
      "testAcct = Account(initDate, symbols, 100.0)"
     ],
     "language": "python",
     "metadata": {},
     "outputs": [],
     "prompt_number": 100
    },
    {
     "cell_type": "code",
     "collapsed": false,
     "input": [
      "testAcct.txns"
     ],
     "language": "python",
     "metadata": {},
     "outputs": [
      {
       "html": [
        "<div style=\"max-height:1000px;max-width:1500px;overflow:auto;\">\n",
        "<table border=\"1\" class=\"dataframe\">\n",
        "  <thead>\n",
        "    <tr style=\"text-align: right;\">\n",
        "      <th></th>\n",
        "      <th>SPX</th>\n",
        "      <th>KOSPI200</th>\n",
        "    </tr>\n",
        "  </thead>\n",
        "  <tbody>\n",
        "    <tr>\n",
        "      <th>2013-01-02</th>\n",
        "      <td> 0</td>\n",
        "      <td> 0</td>\n",
        "    </tr>\n",
        "  </tbody>\n",
        "</table>\n",
        "</div>"
       ],
       "metadata": {},
       "output_type": "pyout",
       "prompt_number": 101,
       "text": [
        "            SPX  KOSPI200\n",
        "2013-01-02    0         0"
       ]
      }
     ],
     "prompt_number": 101
    },
    {
     "cell_type": "code",
     "collapsed": false,
     "input": [
      "testAcct.addTxnDate(pd.to_datetime('20130104'))"
     ],
     "language": "python",
     "metadata": {},
     "outputs": [],
     "prompt_number": 102
    },
    {
     "cell_type": "code",
     "collapsed": false,
     "input": [
      "testAcct.addTxn(pd.to_datetime('20130104'), 'SPX', 50.0)\n",
      "testAcct.addTxn(pd.to_datetime('20130104'), 'KOSPI200', 50.0)"
     ],
     "language": "python",
     "metadata": {},
     "outputs": [],
     "prompt_number": 103
    },
    {
     "cell_type": "code",
     "collapsed": false,
     "input": [
      "testAcct.updateAcct(pd.to_datetime('20130104'),mktData.ix['20130104'] )\n",
      "testAcct.eq"
     ],
     "language": "python",
     "metadata": {},
     "outputs": [
      {
       "html": [
        "<div style=\"max-height:1000px;max-width:1500px;overflow:auto;\">\n",
        "<table border=\"1\" class=\"dataframe\">\n",
        "  <thead>\n",
        "    <tr style=\"text-align: right;\">\n",
        "      <th></th>\n",
        "      <th>Cash</th>\n",
        "      <th>SPX</th>\n",
        "      <th>KOSPI200</th>\n",
        "    </tr>\n",
        "  </thead>\n",
        "  <tbody>\n",
        "    <tr>\n",
        "      <th>2013-01-02</th>\n",
        "      <td> 100</td>\n",
        "      <td>  0</td>\n",
        "      <td>  0</td>\n",
        "    </tr>\n",
        "    <tr>\n",
        "      <th>2013-01-04</th>\n",
        "      <td>   0</td>\n",
        "      <td> 50</td>\n",
        "      <td> 50</td>\n",
        "    </tr>\n",
        "  </tbody>\n",
        "</table>\n",
        "</div>"
       ],
       "metadata": {},
       "output_type": "pyout",
       "prompt_number": 104,
       "text": [
        "            Cash  SPX  KOSPI200\n",
        "2013-01-02   100    0         0\n",
        "2013-01-04     0   50        50"
       ]
      }
     ],
     "prompt_number": 104
    },
    {
     "cell_type": "code",
     "collapsed": false,
     "input": [
      "testAcct.txns"
     ],
     "language": "python",
     "metadata": {},
     "outputs": [
      {
       "html": [
        "<div style=\"max-height:1000px;max-width:1500px;overflow:auto;\">\n",
        "<table border=\"1\" class=\"dataframe\">\n",
        "  <thead>\n",
        "    <tr style=\"text-align: right;\">\n",
        "      <th></th>\n",
        "      <th>SPX</th>\n",
        "      <th>KOSPI200</th>\n",
        "    </tr>\n",
        "  </thead>\n",
        "  <tbody>\n",
        "    <tr>\n",
        "      <th>2013-01-02</th>\n",
        "      <td>  0</td>\n",
        "      <td>  0</td>\n",
        "    </tr>\n",
        "    <tr>\n",
        "      <th>2013-01-04</th>\n",
        "      <td> 50</td>\n",
        "      <td> 50</td>\n",
        "    </tr>\n",
        "  </tbody>\n",
        "</table>\n",
        "</div>"
       ],
       "metadata": {},
       "output_type": "pyout",
       "prompt_number": 105,
       "text": [
        "            SPX  KOSPI200\n",
        "2013-01-02    0         0\n",
        "2013-01-04   50        50"
       ]
      }
     ],
     "prompt_number": 105
    },
    {
     "cell_type": "code",
     "collapsed": false,
     "input": [
      "testAcct.addTxnDate(pd.to_datetime('20130105'))"
     ],
     "language": "python",
     "metadata": {},
     "outputs": [],
     "prompt_number": 106
    },
    {
     "cell_type": "code",
     "collapsed": false,
     "input": [
      "testAcct.txns"
     ],
     "language": "python",
     "metadata": {},
     "outputs": [
      {
       "html": [
        "<div style=\"max-height:1000px;max-width:1500px;overflow:auto;\">\n",
        "<table border=\"1\" class=\"dataframe\">\n",
        "  <thead>\n",
        "    <tr style=\"text-align: right;\">\n",
        "      <th></th>\n",
        "      <th>SPX</th>\n",
        "      <th>KOSPI200</th>\n",
        "    </tr>\n",
        "  </thead>\n",
        "  <tbody>\n",
        "    <tr>\n",
        "      <th>2013-01-02</th>\n",
        "      <td>  0</td>\n",
        "      <td>  0</td>\n",
        "    </tr>\n",
        "    <tr>\n",
        "      <th>2013-01-04</th>\n",
        "      <td> 50</td>\n",
        "      <td> 50</td>\n",
        "    </tr>\n",
        "    <tr>\n",
        "      <th>2013-01-05</th>\n",
        "      <td> 50</td>\n",
        "      <td> 50</td>\n",
        "    </tr>\n",
        "  </tbody>\n",
        "</table>\n",
        "</div>"
       ],
       "metadata": {},
       "output_type": "pyout",
       "prompt_number": 107,
       "text": [
        "            SPX  KOSPI200\n",
        "2013-01-02    0         0\n",
        "2013-01-04   50        50\n",
        "2013-01-05   50        50"
       ]
      }
     ],
     "prompt_number": 107
    },
    {
     "cell_type": "code",
     "collapsed": false,
     "input": [
      "testAcct.updateAcct(pd.to_datetime('20130105'),mktData.ix['20130105'] )\n",
      "testAcct.eq"
     ],
     "language": "python",
     "metadata": {},
     "outputs": [
      {
       "html": [
        "<div style=\"max-height:1000px;max-width:1500px;overflow:auto;\">\n",
        "<table border=\"1\" class=\"dataframe\">\n",
        "  <thead>\n",
        "    <tr style=\"text-align: right;\">\n",
        "      <th></th>\n",
        "      <th>Cash</th>\n",
        "      <th>SPX</th>\n",
        "      <th>KOSPI200</th>\n",
        "    </tr>\n",
        "  </thead>\n",
        "  <tbody>\n",
        "    <tr>\n",
        "      <th>2013-01-02</th>\n",
        "      <td> 100</td>\n",
        "      <td>  0</td>\n",
        "      <td>  0</td>\n",
        "    </tr>\n",
        "    <tr>\n",
        "      <th>2013-01-04</th>\n",
        "      <td>   0</td>\n",
        "      <td> 50</td>\n",
        "      <td> 50</td>\n",
        "    </tr>\n",
        "    <tr>\n",
        "      <th>2013-01-05</th>\n",
        "      <td>   0</td>\n",
        "      <td> 55</td>\n",
        "      <td> 55</td>\n",
        "    </tr>\n",
        "  </tbody>\n",
        "</table>\n",
        "</div>"
       ],
       "metadata": {},
       "output_type": "pyout",
       "prompt_number": 108,
       "text": [
        "            Cash  SPX  KOSPI200\n",
        "2013-01-02   100    0         0\n",
        "2013-01-04     0   50        50\n",
        "2013-01-05     0   55        55"
       ]
      }
     ],
     "prompt_number": 108
    },
    {
     "cell_type": "code",
     "collapsed": false,
     "input": [
      "testAcct.getEq('20130105')"
     ],
     "language": "python",
     "metadata": {},
     "outputs": [
      {
       "metadata": {},
       "output_type": "pyout",
       "prompt_number": 110,
       "text": [
        "110.00000000000001"
       ]
      }
     ],
     "prompt_number": 110
    },
    {
     "cell_type": "code",
     "collapsed": false,
     "input": [
      "testAcct.getPos('20130105', 'KOSPI200')"
     ],
     "language": "python",
     "metadata": {},
     "outputs": [
      {
       "metadata": {},
       "output_type": "pyout",
       "prompt_number": 111,
       "text": [
        "50.0"
       ]
      }
     ],
     "prompt_number": 111
    },
    {
     "cell_type": "markdown",
     "metadata": {},
     "source": [
      "Testing Account class with [example in r-bloggers](http://www.r-bloggers.com/r-package-blotter/)"
     ]
    },
    {
     "cell_type": "code",
     "collapsed": false,
     "input": [
      "import pandas.io.data as web\n",
      "start = datetime(2000,1,1)\n",
      "end = datetime(2010,12,30)\n",
      "spy = web.DataReader(\"SPY\", \"yahoo\", start, end)\n",
      "spy.tail()"
     ],
     "language": "python",
     "metadata": {},
     "outputs": [
      {
       "html": [
        "<div style=\"max-height:1000px;max-width:1500px;overflow:auto;\">\n",
        "<table border=\"1\" class=\"dataframe\">\n",
        "  <thead>\n",
        "    <tr style=\"text-align: right;\">\n",
        "      <th></th>\n",
        "      <th>Open</th>\n",
        "      <th>High</th>\n",
        "      <th>Low</th>\n",
        "      <th>Close</th>\n",
        "      <th>Volume</th>\n",
        "      <th>Adj Close</th>\n",
        "    </tr>\n",
        "    <tr>\n",
        "      <th>Date</th>\n",
        "      <th></th>\n",
        "      <th></th>\n",
        "      <th></th>\n",
        "      <th></th>\n",
        "      <th></th>\n",
        "      <th></th>\n",
        "    </tr>\n",
        "  </thead>\n",
        "  <tbody>\n",
        "    <tr>\n",
        "      <th>2010-12-23</th>\n",
        "      <td> 125.64</td>\n",
        "      <td> 125.78</td>\n",
        "      <td> 125.29</td>\n",
        "      <td> 125.60</td>\n",
        "      <td> 70053700</td>\n",
        "      <td> 116.89</td>\n",
        "    </tr>\n",
        "    <tr>\n",
        "      <th>2010-12-27</th>\n",
        "      <td> 125.13</td>\n",
        "      <td> 125.77</td>\n",
        "      <td> 125.04</td>\n",
        "      <td> 125.65</td>\n",
        "      <td> 58126000</td>\n",
        "      <td> 116.94</td>\n",
        "    </tr>\n",
        "    <tr>\n",
        "      <th>2010-12-28</th>\n",
        "      <td> 125.90</td>\n",
        "      <td> 125.95</td>\n",
        "      <td> 125.50</td>\n",
        "      <td> 125.83</td>\n",
        "      <td> 55309100</td>\n",
        "      <td> 117.10</td>\n",
        "    </tr>\n",
        "    <tr>\n",
        "      <th>2010-12-29</th>\n",
        "      <td> 125.98</td>\n",
        "      <td> 126.20</td>\n",
        "      <td> 125.90</td>\n",
        "      <td> 125.92</td>\n",
        "      <td> 58033100</td>\n",
        "      <td> 117.19</td>\n",
        "    </tr>\n",
        "    <tr>\n",
        "      <th>2010-12-30</th>\n",
        "      <td> 125.80</td>\n",
        "      <td> 126.13</td>\n",
        "      <td> 125.53</td>\n",
        "      <td> 125.72</td>\n",
        "      <td> 76616900</td>\n",
        "      <td> 117.00</td>\n",
        "    </tr>\n",
        "  </tbody>\n",
        "</table>\n",
        "</div>"
       ],
       "metadata": {},
       "output_type": "pyout",
       "prompt_number": 4,
       "text": [
        "              Open    High     Low   Close    Volume  Adj Close\n",
        "Date                                                           \n",
        "2010-12-23  125.64  125.78  125.29  125.60  70053700     116.89\n",
        "2010-12-27  125.13  125.77  125.04  125.65  58126000     116.94\n",
        "2010-12-28  125.90  125.95  125.50  125.83  55309100     117.10\n",
        "2010-12-29  125.98  126.20  125.90  125.92  58033100     117.19\n",
        "2010-12-30  125.80  126.13  125.53  125.72  76616900     117.00"
       ]
      }
     ],
     "prompt_number": 4
    },
    {
     "cell_type": "markdown",
     "metadata": {},
     "source": [
      "Adjust Low Value to be comparable with Adj Close"
     ]
    },
    {
     "cell_type": "code",
     "collapsed": false,
     "input": [
      "spy['Low'] = spy['Low'] * spy['Adj Close'] / spy['Close']\n",
      "spy.tail()"
     ],
     "language": "python",
     "metadata": {},
     "outputs": [
      {
       "html": [
        "<div style=\"max-height:1000px;max-width:1500px;overflow:auto;\">\n",
        "<table border=\"1\" class=\"dataframe\">\n",
        "  <thead>\n",
        "    <tr style=\"text-align: right;\">\n",
        "      <th></th>\n",
        "      <th>Open</th>\n",
        "      <th>High</th>\n",
        "      <th>Low</th>\n",
        "      <th>Close</th>\n",
        "      <th>Volume</th>\n",
        "      <th>Adj Close</th>\n",
        "    </tr>\n",
        "    <tr>\n",
        "      <th>Date</th>\n",
        "      <th></th>\n",
        "      <th></th>\n",
        "      <th></th>\n",
        "      <th></th>\n",
        "      <th></th>\n",
        "      <th></th>\n",
        "    </tr>\n",
        "  </thead>\n",
        "  <tbody>\n",
        "    <tr>\n",
        "      <th>2010-12-23</th>\n",
        "      <td> 125.64</td>\n",
        "      <td> 125.78</td>\n",
        "      <td> 116.601498</td>\n",
        "      <td> 125.60</td>\n",
        "      <td> 70053700</td>\n",
        "      <td> 116.89</td>\n",
        "    </tr>\n",
        "    <tr>\n",
        "      <th>2010-12-27</th>\n",
        "      <td> 125.13</td>\n",
        "      <td> 125.77</td>\n",
        "      <td> 116.372285</td>\n",
        "      <td> 125.65</td>\n",
        "      <td> 58126000</td>\n",
        "      <td> 116.94</td>\n",
        "    </tr>\n",
        "    <tr>\n",
        "      <th>2010-12-28</th>\n",
        "      <td> 125.90</td>\n",
        "      <td> 125.95</td>\n",
        "      <td> 116.792895</td>\n",
        "      <td> 125.83</td>\n",
        "      <td> 55309100</td>\n",
        "      <td> 117.10</td>\n",
        "    </tr>\n",
        "    <tr>\n",
        "      <th>2010-12-29</th>\n",
        "      <td> 125.98</td>\n",
        "      <td> 126.20</td>\n",
        "      <td> 117.171387</td>\n",
        "      <td> 125.92</td>\n",
        "      <td> 58033100</td>\n",
        "      <td> 117.19</td>\n",
        "    </tr>\n",
        "    <tr>\n",
        "      <th>2010-12-30</th>\n",
        "      <td> 125.80</td>\n",
        "      <td> 126.13</td>\n",
        "      <td> 116.823178</td>\n",
        "      <td> 125.72</td>\n",
        "      <td> 76616900</td>\n",
        "      <td> 117.00</td>\n",
        "    </tr>\n",
        "  </tbody>\n",
        "</table>\n",
        "</div>"
       ],
       "metadata": {},
       "output_type": "pyout",
       "prompt_number": 5,
       "text": [
        "              Open    High         Low   Close    Volume  Adj Close\n",
        "Date                                                               \n",
        "2010-12-23  125.64  125.78  116.601498  125.60  70053700     116.89\n",
        "2010-12-27  125.13  125.77  116.372285  125.65  58126000     116.94\n",
        "2010-12-28  125.90  125.95  116.792895  125.83  55309100     117.10\n",
        "2010-12-29  125.98  126.20  117.171387  125.92  58033100     117.19\n",
        "2010-12-30  125.80  126.13  116.823178  125.72  76616900     117.00"
       ]
      }
     ],
     "prompt_number": 5
    },
    {
     "cell_type": "code",
     "collapsed": false,
     "input": [
      "tmp = spy['Adj Close'].shift(1)"
     ],
     "language": "python",
     "metadata": {},
     "outputs": [],
     "prompt_number": 6
    },
    {
     "cell_type": "code",
     "collapsed": false,
     "input": [
      "signal = tmp < spy['Low']\n",
      "signal.head()"
     ],
     "language": "python",
     "metadata": {},
     "outputs": [
      {
       "metadata": {},
       "output_type": "pyout",
       "prompt_number": 49,
       "text": [
        "Date\n",
        "2000-01-03    False\n",
        "2000-01-04    False\n",
        "2000-01-05    False\n",
        "2000-01-06    False\n",
        "2000-01-07     True\n",
        "dtype: bool"
       ]
      }
     ],
     "prompt_number": 49
    },
    {
     "cell_type": "markdown",
     "metadata": {},
     "source": [
      "First, check the performance graph of signal with normal pandas "
     ]
    },
    {
     "cell_type": "code",
     "collapsed": false,
     "input": [
      "(spy['Adj Close'].pct_change(1).shift(-1) * signal + 1).cumprod().plot()"
     ],
     "language": "python",
     "metadata": {},
     "outputs": [
      {
       "metadata": {},
       "output_type": "pyout",
       "prompt_number": 48,
       "text": [
        "<matplotlib.axes.AxesSubplot at 0xb32f410>"
       ]
      }
     ],
     "prompt_number": 48
    },
    {
     "cell_type": "code",
     "collapsed": false,
     "input": [
      "(spy['Adj Close'].pct_change(1).shift(-1) * signal + 1).cumprod().tail()"
     ],
     "language": "python",
     "metadata": {},
     "outputs": [
      {
       "metadata": {},
       "output_type": "pyout",
       "prompt_number": 28,
       "text": [
        "Date\n",
        "2010-12-23    0.783778\n",
        "2010-12-27    0.783778\n",
        "2010-12-28    0.783778\n",
        "2010-12-29    0.782507\n",
        "2010-12-30         NaN\n",
        "dtype: float64"
       ]
      }
     ],
     "prompt_number": 28
    },
    {
     "cell_type": "code",
     "collapsed": false,
     "input": [
      "spy_ret = spy['Adj Close'].pct_change(1)\n",
      "spy_ret = DataFrame(spy_ret)\n",
      "spy_ret.columns = ['SPY']\n",
      "spy_ret.head()"
     ],
     "language": "python",
     "metadata": {},
     "outputs": [
      {
       "html": [
        "<div style=\"max-height:1000px;max-width:1500px;overflow:auto;\">\n",
        "<table border=\"1\" class=\"dataframe\">\n",
        "  <thead>\n",
        "    <tr style=\"text-align: right;\">\n",
        "      <th></th>\n",
        "      <th>SPY</th>\n",
        "    </tr>\n",
        "    <tr>\n",
        "      <th>Date</th>\n",
        "      <th></th>\n",
        "    </tr>\n",
        "  </thead>\n",
        "  <tbody>\n",
        "    <tr>\n",
        "      <th>2000-01-03</th>\n",
        "      <td>      NaN</td>\n",
        "    </tr>\n",
        "    <tr>\n",
        "      <th>2000-01-04</th>\n",
        "      <td>-0.039117</td>\n",
        "    </tr>\n",
        "    <tr>\n",
        "      <th>2000-01-05</th>\n",
        "      <td> 0.001774</td>\n",
        "    </tr>\n",
        "    <tr>\n",
        "      <th>2000-01-06</th>\n",
        "      <td>-0.016125</td>\n",
        "    </tr>\n",
        "    <tr>\n",
        "      <th>2000-01-07</th>\n",
        "      <td> 0.058166</td>\n",
        "    </tr>\n",
        "  </tbody>\n",
        "</table>\n",
        "</div>"
       ],
       "metadata": {},
       "output_type": "pyout",
       "prompt_number": 55,
       "text": [
        "                 SPY\n",
        "Date                \n",
        "2000-01-03       NaN\n",
        "2000-01-04 -0.039117\n",
        "2000-01-05  0.001774\n",
        "2000-01-06 -0.016125\n",
        "2000-01-07  0.058166"
       ]
      }
     ],
     "prompt_number": 55
    },
    {
     "cell_type": "code",
     "collapsed": false,
     "input": [
      "testAcct = Account(datetime(2000,1,3), ['SPY'], 100.0)"
     ],
     "language": "python",
     "metadata": {},
     "outputs": [],
     "prompt_number": 236
    },
    {
     "cell_type": "code",
     "collapsed": false,
     "input": [
      "for i in arange(1,len(signal)):\n",
      "    testAcct.addTxnDate(signal.index[i])\n",
      "    equity = testAcct.getEq(signal.index[i])\n",
      "    position = testAcct.getPos(signal.index[i], 'SPY')\n",
      "\n",
      "    if(position == 0.0):\n",
      "        # Open a new position if signal is True\n",
      "        if(signal[i]):\n",
      "            testAcct.addTxn(signal.index[i], 'SPY', equity)\n",
      "    else:\n",
      "        # if position is open and signal is False, close out position\n",
      "        if(not signal[i]):\n",
      "            testAcct.addTxn(signal.index[i], 'SPY', -position)\n",
      "\n",
      "    testAcct.updateAcct(signal.index[i], spy_ret.ix[signal.index[i]])"
     ],
     "language": "python",
     "metadata": {},
     "outputs": [],
     "prompt_number": 242
    },
    {
     "cell_type": "code",
     "collapsed": false,
     "input": [
      "testAcct.txns.tail()"
     ],
     "language": "python",
     "metadata": {},
     "outputs": [
      {
       "html": [
        "<div style=\"max-height:1000px;max-width:1500px;overflow:auto;\">\n",
        "<table border=\"1\" class=\"dataframe\">\n",
        "  <thead>\n",
        "    <tr style=\"text-align: right;\">\n",
        "      <th></th>\n",
        "      <th>SPY</th>\n",
        "    </tr>\n",
        "  </thead>\n",
        "  <tbody>\n",
        "    <tr>\n",
        "      <th>2010-12-23</th>\n",
        "      <td>  0.000000</td>\n",
        "    </tr>\n",
        "    <tr>\n",
        "      <th>2010-12-27</th>\n",
        "      <td>  0.000000</td>\n",
        "    </tr>\n",
        "    <tr>\n",
        "      <th>2010-12-28</th>\n",
        "      <td>  0.000000</td>\n",
        "    </tr>\n",
        "    <tr>\n",
        "      <th>2010-12-29</th>\n",
        "      <td> 78.377767</td>\n",
        "    </tr>\n",
        "    <tr>\n",
        "      <th>2010-12-30</th>\n",
        "      <td>  0.000000</td>\n",
        "    </tr>\n",
        "  </tbody>\n",
        "</table>\n",
        "</div>"
       ],
       "metadata": {},
       "output_type": "pyout",
       "prompt_number": 245,
       "text": [
        "                  SPY\n",
        "2010-12-23   0.000000\n",
        "2010-12-27   0.000000\n",
        "2010-12-28   0.000000\n",
        "2010-12-29  78.377767\n",
        "2010-12-30   0.000000"
       ]
      }
     ],
     "prompt_number": 245
    },
    {
     "cell_type": "code",
     "collapsed": false,
     "input": [
      "testAcct.eq.tail()"
     ],
     "language": "python",
     "metadata": {},
     "outputs": [
      {
       "html": [
        "<div style=\"max-height:1000px;max-width:1500px;overflow:auto;\">\n",
        "<table border=\"1\" class=\"dataframe\">\n",
        "  <thead>\n",
        "    <tr style=\"text-align: right;\">\n",
        "      <th></th>\n",
        "      <th>Cash</th>\n",
        "      <th>SPY</th>\n",
        "    </tr>\n",
        "  </thead>\n",
        "  <tbody>\n",
        "    <tr>\n",
        "      <th>2010-12-23</th>\n",
        "      <td> 78.377767</td>\n",
        "      <td>  0.000000</td>\n",
        "    </tr>\n",
        "    <tr>\n",
        "      <th>2010-12-27</th>\n",
        "      <td> 78.377767</td>\n",
        "      <td>  0.000000</td>\n",
        "    </tr>\n",
        "    <tr>\n",
        "      <th>2010-12-28</th>\n",
        "      <td> 78.377767</td>\n",
        "      <td>  0.000000</td>\n",
        "    </tr>\n",
        "    <tr>\n",
        "      <th>2010-12-29</th>\n",
        "      <td>  0.000000</td>\n",
        "      <td> 78.377767</td>\n",
        "    </tr>\n",
        "    <tr>\n",
        "      <th>2010-12-30</th>\n",
        "      <td> 78.250693</td>\n",
        "      <td>  0.000000</td>\n",
        "    </tr>\n",
        "  </tbody>\n",
        "</table>\n",
        "</div>"
       ],
       "metadata": {},
       "output_type": "pyout",
       "prompt_number": 246,
       "text": [
        "                 Cash        SPY\n",
        "2010-12-23  78.377767   0.000000\n",
        "2010-12-27  78.377767   0.000000\n",
        "2010-12-28  78.377767   0.000000\n",
        "2010-12-29   0.000000  78.377767\n",
        "2010-12-30  78.250693   0.000000"
       ]
      }
     ],
     "prompt_number": 246
    },
    {
     "cell_type": "code",
     "collapsed": false,
     "input": [],
     "language": "python",
     "metadata": {},
     "outputs": []
    }
   ],
   "metadata": {}
  }
 ]
}