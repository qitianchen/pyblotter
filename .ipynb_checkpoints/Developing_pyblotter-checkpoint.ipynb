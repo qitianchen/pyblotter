{
 "metadata": {
  "name": "",
  "signature": "sha256:078bc7f43b099c8ea31abc26c23eeaa7abfab1abce6b2321d823b1e65b3ae9b7"
 },
 "nbformat": 3,
 "nbformat_minor": 0,
 "worksheets": [
  {
   "cells": [
    {
     "cell_type": "code",
     "collapsed": false,
     "input": [
      "from pandas import DataFrame, Series\n",
      "import pybbg\n",
      "import pandas as pd\n",
      "import numpy as np\n",
      "from datetime import datetime"
     ],
     "language": "python",
     "metadata": {},
     "outputs": [],
     "prompt_number": 1
    },
    {
     "cell_type": "markdown",
     "metadata": {},
     "source": [
      "This package is intended to work similar with [blotter package](http://www.r-bloggers.com/r-package-blotter/) R. "
     ]
    },
    {
     "cell_type": "code",
     "collapsed": false,
     "input": [
      "class Account:\n",
      "    def __init__(self, initDatetime, symbols, cashAmt, acctType='return'):\n",
      "        \"\"\"\n",
      "        input\n",
      "        initDate is start date of simulation\n",
      "        symbols is list of universe for simulation\n",
      "        \n",
      "        variables\n",
      "        txns is DataFrame which contains tranaction history\n",
      "        eq is DataFrame which contains current value of account\n",
      "        \n",
      "        For initial implementation, this class only values account based on return data of security. \n",
      "        Valuing account with price of security will be implemented later.\n",
      "        \"\"\"\n",
      "        self.txns = DataFrame(np.zeros((1,len(symbols))), index = [initDate], columns=symbols)\n",
      "        self.eq = DataFrame(np.zeros((1,len(symbols)+1)), index = [initDate], columns=['Cash'] + symbols)\n",
      "        self.eq.ix[initDatetime, 'Cash'] = cashAmt\n",
      "        self.accType = acctType\n",
      "\n",
      "    def addTxnDate(self, txnDate):\n",
      "        \"\"\"\n",
      "        add one row for txns and eq with index as txnDate\n",
      "        \"\"\"\n",
      "        self.txns.loc[txnDate, :] = self.txns.tail(1).values\n",
      "        self.eq.loc[txnDate, :] = self.eq.tail(1).values\n",
      "        \n",
      "    def addTxn(self, txnDate, symbol, txnAmt):\n",
      "        \"\"\"\n",
      "        addTxn add transaction data to txns DataFrame\n",
      "        \"\"\"\n",
      "        self.txns.ix[txnDate, symbol] = self.txns.ix[txnDate, symbol] + txnAmt\n",
      "    \n",
      "    def updateAcct(self, currDate, value):\n",
      "        \"\"\"\n",
      "        update account based on market data.\n",
      "        value is market data dataframe containing either return or price data\n",
      "        \n",
      "        Transaction cost should be implemented here. many options should be considered.\n",
      "        \"\"\"\n",
      "        shifted_txns = self.txns.shift(1)\n",
      "        # for each symbol in txns\n",
      "        for symbol in self.txns.columns:\n",
      "            # if there's no position, skip.\n",
      "            if self.eq.ix[currDate, symbol] != 0.0 or self.txns.ix[currDate, symbol] != 0.0:\n",
      "                # muliply return of symbol on each eq value of the symbol\n",
      "                self.eq.ix[currDate, symbol] = self.eq.ix[currDate, symbol] * (1.0 + value[symbol])\n",
      "                # Check if transaction occur\n",
      "                before_txns = 0.0\n",
      "                if self.txns.ix[currDate, symbol] != shifted_txns.ix[currDate, symbol]:\n",
      "                    if shifted_txns.ix[currDate, symbol] == 0:\n",
      "                        self.eq.ix[currDate, symbol] = self.txns.ix[currDate, symbol]\n",
      "                        self.eq.ix[currDate, 'Cash'] = self.eq.ix[currDate, 'Cash'] - self.txns.ix[currDate, symbol]\n",
      "                    else:\n",
      "                        # if there is change, adjust eq\n",
      "                        before_txns = self.eq.ix[currDate, symbol]\n",
      "                        self.eq.ix[currDate, symbol] = self.eq.ix[currDate, symbol] * (self.txns.ix[currDate, symbol] - self.shifted_txns.ix[currDate, symbol]) / self.shifted_txns.ix[currDate, symbol]\n",
      "                        self.eq.ix[currDate, 'Cash'] = self.eq.ix[currDate, 'Cash'] + before_txns - self.eq.ix[currDate, symbol]\n",
      "\n",
      "    def getEq(self, currDate):\n",
      "        \"\"\"\n",
      "        get equity value of account at current date(currDate)\n",
      "        \"\"\"\n",
      "        return self.eq.ix[currDate].sum()\n",
      "    def getPos(self, currDate, symbol):\n",
      "        \"\"\"\n",
      "        get position information of symbol\n",
      "        \"\"\"\n",
      "        return self.txns.ix[currDate, symbol]"
     ],
     "language": "python",
     "metadata": {},
     "outputs": [],
     "prompt_number": 81
    },
    {
     "cell_type": "markdown",
     "metadata": {},
     "source": [
      "Test"
     ]
    },
    {
     "cell_type": "code",
     "collapsed": false,
     "input": [
      "mktData = DataFrame([[0.1, 0.1], [0.1, 0.1]], index=[pd.to_datetime('20130104'), pd.to_datetime('20130105')], columns=symbols)\n",
      "mktData"
     ],
     "language": "python",
     "metadata": {},
     "outputs": [
      {
       "html": [
        "<div style=\"max-height:1000px;max-width:1500px;overflow:auto;\">\n",
        "<table border=\"1\" class=\"dataframe\">\n",
        "  <thead>\n",
        "    <tr style=\"text-align: right;\">\n",
        "      <th></th>\n",
        "      <th>SPX</th>\n",
        "      <th>KOSPI200</th>\n",
        "    </tr>\n",
        "  </thead>\n",
        "  <tbody>\n",
        "    <tr>\n",
        "      <th>2013-01-04</th>\n",
        "      <td> 0.1</td>\n",
        "      <td> 0.1</td>\n",
        "    </tr>\n",
        "    <tr>\n",
        "      <th>2013-01-05</th>\n",
        "      <td> 0.1</td>\n",
        "      <td> 0.1</td>\n",
        "    </tr>\n",
        "  </tbody>\n",
        "</table>\n",
        "</div>"
       ],
       "metadata": {},
       "output_type": "pyout",
       "prompt_number": 99,
       "text": [
        "            SPX  KOSPI200\n",
        "2013-01-04  0.1       0.1\n",
        "2013-01-05  0.1       0.1"
       ]
      }
     ],
     "prompt_number": 99
    },
    {
     "cell_type": "code",
     "collapsed": false,
     "input": [
      "symbols = ['SPX', 'KOSPI200']\n",
      "initDate = pd.to_datetime('20130102')"
     ],
     "language": "python",
     "metadata": {},
     "outputs": []
    },
    {
     "cell_type": "code",
     "collapsed": false,
     "input": [
      "testAcct = Account(initDate, symbols, 100.0)"
     ],
     "language": "python",
     "metadata": {},
     "outputs": [],
     "prompt_number": 100
    },
    {
     "cell_type": "code",
     "collapsed": false,
     "input": [
      "testAcct.txns"
     ],
     "language": "python",
     "metadata": {},
     "outputs": [
      {
       "html": [
        "<div style=\"max-height:1000px;max-width:1500px;overflow:auto;\">\n",
        "<table border=\"1\" class=\"dataframe\">\n",
        "  <thead>\n",
        "    <tr style=\"text-align: right;\">\n",
        "      <th></th>\n",
        "      <th>SPX</th>\n",
        "      <th>KOSPI200</th>\n",
        "    </tr>\n",
        "  </thead>\n",
        "  <tbody>\n",
        "    <tr>\n",
        "      <th>2013-01-02</th>\n",
        "      <td> 0</td>\n",
        "      <td> 0</td>\n",
        "    </tr>\n",
        "  </tbody>\n",
        "</table>\n",
        "</div>"
       ],
       "metadata": {},
       "output_type": "pyout",
       "prompt_number": 101,
       "text": [
        "            SPX  KOSPI200\n",
        "2013-01-02    0         0"
       ]
      }
     ],
     "prompt_number": 101
    },
    {
     "cell_type": "code",
     "collapsed": false,
     "input": [
      "testAcct.addTxnDate(pd.to_datetime('20130104'))"
     ],
     "language": "python",
     "metadata": {},
     "outputs": [],
     "prompt_number": 102
    },
    {
     "cell_type": "code",
     "collapsed": false,
     "input": [
      "testAcct.addTxn(pd.to_datetime('20130104'), 'SPX', 50.0)\n",
      "testAcct.addTxn(pd.to_datetime('20130104'), 'KOSPI200', 50.0)"
     ],
     "language": "python",
     "metadata": {},
     "outputs": [],
     "prompt_number": 103
    },
    {
     "cell_type": "code",
     "collapsed": false,
     "input": [
      "testAcct.updateAcct(pd.to_datetime('20130104'),mktData.ix['20130104'] )\n",
      "testAcct.eq"
     ],
     "language": "python",
     "metadata": {},
     "outputs": [
      {
       "html": [
        "<div style=\"max-height:1000px;max-width:1500px;overflow:auto;\">\n",
        "<table border=\"1\" class=\"dataframe\">\n",
        "  <thead>\n",
        "    <tr style=\"text-align: right;\">\n",
        "      <th></th>\n",
        "      <th>Cash</th>\n",
        "      <th>SPX</th>\n",
        "      <th>KOSPI200</th>\n",
        "    </tr>\n",
        "  </thead>\n",
        "  <tbody>\n",
        "    <tr>\n",
        "      <th>2013-01-02</th>\n",
        "      <td> 100</td>\n",
        "      <td>  0</td>\n",
        "      <td>  0</td>\n",
        "    </tr>\n",
        "    <tr>\n",
        "      <th>2013-01-04</th>\n",
        "      <td>   0</td>\n",
        "      <td> 50</td>\n",
        "      <td> 50</td>\n",
        "    </tr>\n",
        "  </tbody>\n",
        "</table>\n",
        "</div>"
       ],
       "metadata": {},
       "output_type": "pyout",
       "prompt_number": 104,
       "text": [
        "            Cash  SPX  KOSPI200\n",
        "2013-01-02   100    0         0\n",
        "2013-01-04     0   50        50"
       ]
      }
     ],
     "prompt_number": 104
    },
    {
     "cell_type": "code",
     "collapsed": false,
     "input": [
      "testAcct.txns"
     ],
     "language": "python",
     "metadata": {},
     "outputs": [
      {
       "html": [
        "<div style=\"max-height:1000px;max-width:1500px;overflow:auto;\">\n",
        "<table border=\"1\" class=\"dataframe\">\n",
        "  <thead>\n",
        "    <tr style=\"text-align: right;\">\n",
        "      <th></th>\n",
        "      <th>SPX</th>\n",
        "      <th>KOSPI200</th>\n",
        "    </tr>\n",
        "  </thead>\n",
        "  <tbody>\n",
        "    <tr>\n",
        "      <th>2013-01-02</th>\n",
        "      <td>  0</td>\n",
        "      <td>  0</td>\n",
        "    </tr>\n",
        "    <tr>\n",
        "      <th>2013-01-04</th>\n",
        "      <td> 50</td>\n",
        "      <td> 50</td>\n",
        "    </tr>\n",
        "  </tbody>\n",
        "</table>\n",
        "</div>"
       ],
       "metadata": {},
       "output_type": "pyout",
       "prompt_number": 105,
       "text": [
        "            SPX  KOSPI200\n",
        "2013-01-02    0         0\n",
        "2013-01-04   50        50"
       ]
      }
     ],
     "prompt_number": 105
    },
    {
     "cell_type": "code",
     "collapsed": false,
     "input": [
      "testAcct.addTxnDate(pd.to_datetime('20130105'))"
     ],
     "language": "python",
     "metadata": {},
     "outputs": [],
     "prompt_number": 106
    },
    {
     "cell_type": "code",
     "collapsed": false,
     "input": [
      "testAcct.txns"
     ],
     "language": "python",
     "metadata": {},
     "outputs": [
      {
       "html": [
        "<div style=\"max-height:1000px;max-width:1500px;overflow:auto;\">\n",
        "<table border=\"1\" class=\"dataframe\">\n",
        "  <thead>\n",
        "    <tr style=\"text-align: right;\">\n",
        "      <th></th>\n",
        "      <th>SPX</th>\n",
        "      <th>KOSPI200</th>\n",
        "    </tr>\n",
        "  </thead>\n",
        "  <tbody>\n",
        "    <tr>\n",
        "      <th>2013-01-02</th>\n",
        "      <td>  0</td>\n",
        "      <td>  0</td>\n",
        "    </tr>\n",
        "    <tr>\n",
        "      <th>2013-01-04</th>\n",
        "      <td> 50</td>\n",
        "      <td> 50</td>\n",
        "    </tr>\n",
        "    <tr>\n",
        "      <th>2013-01-05</th>\n",
        "      <td> 50</td>\n",
        "      <td> 50</td>\n",
        "    </tr>\n",
        "  </tbody>\n",
        "</table>\n",
        "</div>"
       ],
       "metadata": {},
       "output_type": "pyout",
       "prompt_number": 107,
       "text": [
        "            SPX  KOSPI200\n",
        "2013-01-02    0         0\n",
        "2013-01-04   50        50\n",
        "2013-01-05   50        50"
       ]
      }
     ],
     "prompt_number": 107
    },
    {
     "cell_type": "code",
     "collapsed": false,
     "input": [
      "testAcct.updateAcct(pd.to_datetime('20130105'),mktData.ix['20130105'] )\n",
      "testAcct.eq"
     ],
     "language": "python",
     "metadata": {},
     "outputs": [
      {
       "html": [
        "<div style=\"max-height:1000px;max-width:1500px;overflow:auto;\">\n",
        "<table border=\"1\" class=\"dataframe\">\n",
        "  <thead>\n",
        "    <tr style=\"text-align: right;\">\n",
        "      <th></th>\n",
        "      <th>Cash</th>\n",
        "      <th>SPX</th>\n",
        "      <th>KOSPI200</th>\n",
        "    </tr>\n",
        "  </thead>\n",
        "  <tbody>\n",
        "    <tr>\n",
        "      <th>2013-01-02</th>\n",
        "      <td> 100</td>\n",
        "      <td>  0</td>\n",
        "      <td>  0</td>\n",
        "    </tr>\n",
        "    <tr>\n",
        "      <th>2013-01-04</th>\n",
        "      <td>   0</td>\n",
        "      <td> 50</td>\n",
        "      <td> 50</td>\n",
        "    </tr>\n",
        "    <tr>\n",
        "      <th>2013-01-05</th>\n",
        "      <td>   0</td>\n",
        "      <td> 55</td>\n",
        "      <td> 55</td>\n",
        "    </tr>\n",
        "  </tbody>\n",
        "</table>\n",
        "</div>"
       ],
       "metadata": {},
       "output_type": "pyout",
       "prompt_number": 108,
       "text": [
        "            Cash  SPX  KOSPI200\n",
        "2013-01-02   100    0         0\n",
        "2013-01-04     0   50        50\n",
        "2013-01-05     0   55        55"
       ]
      }
     ],
     "prompt_number": 108
    },
    {
     "cell_type": "code",
     "collapsed": false,
     "input": [
      "testAcct.getEq('20130105')"
     ],
     "language": "python",
     "metadata": {},
     "outputs": [
      {
       "metadata": {},
       "output_type": "pyout",
       "prompt_number": 110,
       "text": [
        "110.00000000000001"
       ]
      }
     ],
     "prompt_number": 110
    },
    {
     "cell_type": "code",
     "collapsed": false,
     "input": [
      "testAcct.getPos('20130105', 'KOSPI200')"
     ],
     "language": "python",
     "metadata": {},
     "outputs": [
      {
       "metadata": {},
       "output_type": "pyout",
       "prompt_number": 111,
       "text": [
        "50.0"
       ]
      }
     ],
     "prompt_number": 111
    },
    {
     "cell_type": "code",
     "collapsed": false,
     "input": [],
     "language": "python",
     "metadata": {},
     "outputs": []
    }
   ],
   "metadata": {}
  }
 ]
}