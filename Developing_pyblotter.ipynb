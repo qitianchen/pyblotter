{
 "metadata": {
  "name": "",
  "signature": "sha256:4be645966ca0786c966f065618661739d9c1cf306cb1452483b129b852fdd2b3"
 },
 "nbformat": 3,
 "nbformat_minor": 0,
 "worksheets": [
  {
   "cells": [
    {
     "cell_type": "code",
     "collapsed": false,
     "input": [
      "from pandas import DataFrame, Series\n",
      "import pybbg\n",
      "import pandas as pd\n",
      "import numpy as np\n",
      "from datetime import datetime"
     ],
     "language": "python",
     "metadata": {},
     "outputs": [],
     "prompt_number": 47
    },
    {
     "cell_type": "markdown",
     "metadata": {},
     "source": [
      "This package is intended to work similar with [blotter package](http://www.r-bloggers.com/r-package-blotter/) R. "
     ]
    },
    {
     "cell_type": "code",
     "collapsed": false,
     "input": [
      "class Account:\n",
      "    def __init__(self):\n",
      "        \"\"\"\n",
      "        txns is DataFrame which contains tranaction history\n",
      "        eq is DataFrame which contains current value of account\n",
      "        \n",
      "        For initial implementation, this class only values account based on return data of security. \n",
      "        Valuing account with price of security will be implemented later.\n",
      "        \"\"\"\n",
      "        self.txns = DataFrame(columns=['symbol', 'txnAmt'])\n",
      "        self.eq = DataFrame()\n",
      "    \n",
      "    def getEq(currDate):\n",
      "        \"\"\"\n",
      "        get equity value of account at current date(currDate)\n",
      "        \"\"\"\n",
      "    \n",
      "    def getPos(currDate, symbol):\n",
      "        \"\"\"\n",
      "        get position information of symbol\n",
      "        \"\"\"\n",
      "    \n",
      "    def addTxn(txnDate, symbol, txnAmt, txnFee=0):\n",
      "        \"\"\"\n",
      "        addTxn add transaction data to txns DataFrame\n",
      "        \"\"\"\n",
      "        self.txns.append(DataFrame([[symbol, txnAmt]], index=[txnDate], columns=['symbol', 'txnAmt']))\n",
      "    \n",
      "    def updateAcct(currDate):\n",
      "        \"\"\"\n",
      "        update account based on market. Where is market data anyway? should I save it?\n",
      "        \"\"\""
     ],
     "language": "python",
     "metadata": {},
     "outputs": []
    },
    {
     "cell_type": "code",
     "collapsed": false,
     "input": [
      "test = DataFrame(columns = ['symbol', 'txnAmt'])"
     ],
     "language": "python",
     "metadata": {},
     "outputs": [],
     "prompt_number": 11
    },
    {
     "cell_type": "code",
     "collapsed": false,
     "input": [
      "test.append(DataFrame([[1,2]], index=[pd.to_datetime('20130102')], columns=['symbol', 'txnAmt']))"
     ],
     "language": "python",
     "metadata": {},
     "outputs": [
      {
       "html": [
        "<div style=\"max-height:1000px;max-width:1500px;overflow:auto;\">\n",
        "<table border=\"1\" class=\"dataframe\">\n",
        "  <thead>\n",
        "    <tr style=\"text-align: right;\">\n",
        "      <th></th>\n",
        "      <th>symbol</th>\n",
        "      <th>txnAmt</th>\n",
        "    </tr>\n",
        "  </thead>\n",
        "  <tbody>\n",
        "    <tr>\n",
        "      <th>2013-01-02</th>\n",
        "      <td> 1</td>\n",
        "      <td> 2</td>\n",
        "    </tr>\n",
        "  </tbody>\n",
        "</table>\n",
        "</div>"
       ],
       "metadata": {},
       "output_type": "pyout",
       "prompt_number": 56,
       "text": [
        "            symbol  txnAmt\n",
        "2013-01-02       1       2"
       ]
      }
     ],
     "prompt_number": 56
    },
    {
     "cell_type": "code",
     "collapsed": false,
     "input": [
      "[[1,2]]"
     ],
     "language": "python",
     "metadata": {},
     "outputs": [
      {
       "metadata": {},
       "output_type": "pyout",
       "prompt_number": 55,
       "text": [
        "[[1, 2]]"
       ]
      }
     ],
     "prompt_number": 55
    },
    {
     "cell_type": "code",
     "collapsed": false,
     "input": [
      "pd.DatetimeIndex('20130102')"
     ],
     "language": "python",
     "metadata": {},
     "outputs": [
      {
       "ename": "ValueError",
       "evalue": "DatetimeIndex() must be called with a collection of some kind, '20130102' was passed",
       "output_type": "pyerr",
       "traceback": [
        "\u001b[1;31m---------------------------------------------------------------------------\u001b[0m\n\u001b[1;31mValueError\u001b[0m                                Traceback (most recent call last)",
        "\u001b[1;32m<ipython-input-53-f79fe3d6da10>\u001b[0m in \u001b[0;36m<module>\u001b[1;34m()\u001b[0m\n\u001b[1;32m----> 1\u001b[1;33m \u001b[0mpd\u001b[0m\u001b[1;33m.\u001b[0m\u001b[0mDatetimeIndex\u001b[0m\u001b[1;33m(\u001b[0m\u001b[1;34m'20130102'\u001b[0m\u001b[1;33m)\u001b[0m\u001b[1;33m\u001b[0m\u001b[0m\n\u001b[0m",
        "\u001b[1;32mC:\\Users\\kian\\Anaconda\\lib\\site-packages\\pandas\\tseries\\index.pyc\u001b[0m in \u001b[0;36m__new__\u001b[1;34m(cls, data, freq, start, end, periods, copy, name, tz, verify_integrity, normalize, closed, **kwds)\u001b[0m\n\u001b[0;32m    199\u001b[0m                 raise ValueError('DatetimeIndex() must be called with a '\n\u001b[0;32m    200\u001b[0m                                  \u001b[1;34m'collection of some kind, %s was passed'\u001b[0m\u001b[1;33m\u001b[0m\u001b[0m\n\u001b[1;32m--> 201\u001b[1;33m                                  % repr(data))\n\u001b[0m\u001b[0;32m    202\u001b[0m \u001b[1;33m\u001b[0m\u001b[0m\n\u001b[0;32m    203\u001b[0m             \u001b[1;31m# other iterable of some kind\u001b[0m\u001b[1;33m\u001b[0m\u001b[1;33m\u001b[0m\u001b[0m\n",
        "\u001b[1;31mValueError\u001b[0m: DatetimeIndex() must be called with a collection of some kind, '20130102' was passed"
       ]
      }
     ],
     "prompt_number": 53
    },
    {
     "cell_type": "code",
     "collapsed": false,
     "input": [],
     "language": "python",
     "metadata": {},
     "outputs": []
    }
   ],
   "metadata": {}
  }
 ]
}